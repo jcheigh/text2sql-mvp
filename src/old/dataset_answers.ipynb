{
 "cells": [
  {
   "cell_type": "code",
   "execution_count": 3,
   "metadata": {},
   "outputs": [],
   "source": [
    "import numpy as np \n",
    "import pandas as pd \n",
    "from agent import Config\n",
    "\n",
    "config = Config()\n",
    "engine = config.engine"
   ]
  },
  {
   "cell_type": "code",
   "execution_count": 7,
   "metadata": {},
   "outputs": [
    {
     "name": "stdout",
     "output_type": "stream",
     "text": [
      "97.75121531858875\n"
     ]
    }
   ],
   "source": [
    "user_query = \"What is the average of all the values in the `open` column of the `ohlc` table?\"\n",
    "sql_query  = \"SELECT open FROM ohlc;\"\n",
    "df = pd.read_sql(sql_query, engine)\n",
    "print(df['open'].mean())"
   ]
  },
  {
   "cell_type": "code",
   "execution_count": 8,
   "metadata": {},
   "outputs": [
    {
     "name": "stdout",
     "output_type": "stream",
     "text": [
      "0.8001354125807449\n"
     ]
    }
   ],
   "source": [
    "user_query = \"Find the smallest USD-to-EUR exchange rate stored in the fxrates table.\"\n",
    "sql_query  = \"SELECT usd_to_eur FROM fxrates;\"\n",
    "df = pd.read_sql(sql_query, engine)\n",
    "print(df[\"usd_to_eur\"].min())"
   ]
  },
  {
   "cell_type": "code",
   "execution_count": 9,
   "metadata": {},
   "outputs": [
    {
     "name": "stdout",
     "output_type": "stream",
     "text": [
      "4.499022247446833\n"
     ]
    }
   ],
   "source": [
    "user_query = \"Among all rows in the `treasury_yields` table, what is the highest 10-year yield value?\"\n",
    "sql_query  = \"SELECT yield_10_year FROM treasury_yields;\"\n",
    "df = pd.read_sql(sql_query, engine)\n",
    "print(df[\"yield_10_year\"].max())"
   ]
  },
  {
   "cell_type": "code",
   "execution_count": 10,
   "metadata": {},
   "outputs": [
    {
     "name": "stdout",
     "output_type": "stream",
     "text": [
      "17.65921497142543\n"
     ]
    }
   ],
   "source": [
    "user_query = \"Compute the standard deviation of the difference between `close` and `open` in the `ohlc` table.\",\n",
    "sql_query = \"SELECT open, close FROM ohlc;\"\n",
    "df = pd.read_sql(sql_query, engine) \n",
    "df[\"diff\"] = df[\"close\"] - df[\"open\"]\n",
    "print(df[\"diff\"].std())"
   ]
  },
  {
   "cell_type": "code",
   "execution_count": 11,
   "metadata": {},
   "outputs": [
    {
     "name": "stdout",
     "output_type": "stream",
     "text": [
      "0.32749703868504004\n"
     ]
    }
   ],
   "source": [
    "user_query=\"Please tell me the correlation between `usd_to_eur` and `usd_to_gbp` in the `fxrates` table.\"\n",
    "df = pd.read_sql(\"SELECT yield_10_year, yield_5_year FROM treasury_yields;\", engine)\n",
    "df[\"diff\"] = df[\"yield_10_year\"] - df[\"yield_5_year\"]\n",
    "print(df[\"diff\"].mean())"
   ]
  },
  {
   "cell_type": "code",
   "execution_count": 12,
   "metadata": {},
   "outputs": [
    {
     "name": "stdout",
     "output_type": "stream",
     "text": [
      "-0.02545843934708713\n"
     ]
    }
   ],
   "source": [
    "user_query=\"Please tell me the correlation between `usd_to_eur` and `usd_to_gbp` in the `fxrates` table.\"\n",
    "df = pd.read_sql(\"SELECT usd_to_eur, usd_to_gbp FROM fxrates;\", engine)\n",
    "print(df[\"usd_to_eur\"].corr(df[\"usd_to_gbp\"]))"
   ]
  },
  {
   "cell_type": "code",
   "execution_count": null,
   "metadata": {},
   "outputs": [],
   "source": [
    "questions = [\n",
    "    ''\n",
    "]"
   ]
  },
  {
   "cell_type": "code",
   "execution_count": 1,
   "metadata": {},
   "outputs": [
    {
     "ename": "ModuleNotFoundError",
     "evalue": "No module named 'dataset'",
     "output_type": "error",
     "traceback": [
      "\u001b[0;31m---------------------------------------------------------------------------\u001b[0m",
      "\u001b[0;31mModuleNotFoundError\u001b[0m                       Traceback (most recent call last)",
      "\u001b[1;32m/Users/jcheigh/text2sql-mvp/src/messing-around/dataset_answers.ipynb Cell 1\u001b[0m in \u001b[0;36m<cell line: 1>\u001b[0;34m()\u001b[0m\n\u001b[0;32m----> <a href='vscode-notebook-cell:/Users/jcheigh/text2sql-mvp/src/messing-around/dataset_answers.ipynb#W3sZmlsZQ%3D%3D?line=0'>1</a>\u001b[0m \u001b[39mfrom\u001b[39;00m \u001b[39mdataset\u001b[39;00m \u001b[39mimport\u001b[39;00m Dataset, TestQuestion\n\u001b[1;32m      <a href='vscode-notebook-cell:/Users/jcheigh/text2sql-mvp/src/messing-around/dataset_answers.ipynb#W3sZmlsZQ%3D%3D?line=2'>3</a>\u001b[0m \u001b[39mdef\u001b[39;00m \u001b[39mcreate_dataset\u001b[39m():\n\u001b[1;32m      <a href='vscode-notebook-cell:/Users/jcheigh/text2sql-mvp/src/messing-around/dataset_answers.ipynb#W3sZmlsZQ%3D%3D?line=3'>4</a>\u001b[0m     test_questions \u001b[39m=\u001b[39m [\n\u001b[1;32m      <a href='vscode-notebook-cell:/Users/jcheigh/text2sql-mvp/src/messing-around/dataset_answers.ipynb#W3sZmlsZQ%3D%3D?line=4'>5</a>\u001b[0m         \u001b[39m# ----------------- EASY -----------------\u001b[39;00m\n\u001b[1;32m      <a href='vscode-notebook-cell:/Users/jcheigh/text2sql-mvp/src/messing-around/dataset_answers.ipynb#W3sZmlsZQ%3D%3D?line=5'>6</a>\u001b[0m         TestQuestion(\n\u001b[0;32m   (...)\u001b[0m\n\u001b[1;32m    <a href='vscode-notebook-cell:/Users/jcheigh/text2sql-mvp/src/messing-around/dataset_answers.ipynb#W3sZmlsZQ%3D%3D?line=102'>103</a>\u001b[0m         ),\n\u001b[1;32m    <a href='vscode-notebook-cell:/Users/jcheigh/text2sql-mvp/src/messing-around/dataset_answers.ipynb#W3sZmlsZQ%3D%3D?line=103'>104</a>\u001b[0m     ]\n",
      "\u001b[0;31mModuleNotFoundError\u001b[0m: No module named 'dataset'"
     ]
    }
   ],
   "source": [
    "\n",
    "        TestQuestion(\n",
    "            difficulty=\"medium\",\n",
    "            user_query=\"Please tell me the correlation between `usd_to_eur` and `usd_to_gbp` in the `fxrates` table.\",\n",
    "            answer=-100,\n",
    "            precision=0.001\n",
    "        ),\n",
    "\n",
    "        # ----------------- HARD -----------------\n",
    "        TestQuestion(\n",
    "            difficulty=\"hard\",\n",
    "            user_query=(\n",
    "                \"Find the correlation between the stock price movement (`close - open`) in `ohlc` \"\n",
    "                \"and the difference (`yield_7_year - yield_5_year`) in `treasury_yields`, matching rows by date.\"\n",
    "            ),\n",
    "            answer=-100,\n",
    "            precision=0.001\n",
    "        ),\n",
    "        TestQuestion(\n",
    "            difficulty=\"hard\",\n",
    "            user_query=(\n",
    "                \"Take the sum of `usd_to_eur` across all rows in `fxrates` and divide it by the sum of `usd_to_gbp` \"\n",
    "                \"across all rows, then give me that ratio.\"\n",
    "            ),\n",
    "            answer=-100,\n",
    "            precision=0.0001\n",
    "        ),\n",
    "        TestQuestion(\n",
    "            difficulty=\"hard\",\n",
    "            user_query=(\n",
    "                \"Which day in `ohlc` has the largest range (`high - low`), and what is the 5-year Treasury yield \"\n",
    "                \"on that same day? Please give me just that 5-year yield.\"\n",
    "            ),\n",
    "            answer=-100,\n",
    "            precision=0.001\n",
    "        ),\n",
    "\n",
    "        # ----------------- EXTREMELY HARD -----------------\n",
    "        TestQuestion(\n",
    "            difficulty=\"extremely hard\",\n",
    "            user_query=(\n",
    "                \"Focus on the `ohlc` table. First, calculate the 75th percentile of `(close - open)`. \"\n",
    "                \"Then filter rows where `(close - open)` is above that 75th percentile. \"\n",
    "                \"For those filtered days, find the average 10-year yield (in `treasury_yields`).\"\n",
    "            ),\n",
    "            answer=-100,\n",
    "            precision=0.001\n",
    "        ),\n",
    "        TestQuestion(\n",
    "            difficulty=\"extremely hard\",\n",
    "            user_query=(\n",
    "                \"Among all rows where the 7-year Treasury yield is higher than the 5-year yield, compute the correlation \"\n",
    "                \"between `(close - open)` in `ohlc` and `usd_to_eur` in `fxrates`, matching rows by date.\"\n",
    "            ),\n",
    "            answer=-100,\n",
    "            precision=0.001\n",
    "        ),\n",
    "        TestQuestion(\n",
    "            difficulty=\"extremely hard\",\n",
    "            user_query=(\n",
    "                \"In `ohlc`, compute the mean and standard deviation of `close`. Filter to the days where `close` \"\n",
    "                \"is more than 1.5 standard deviations above the mean. Then sum up `(yield_10_year - yield_5_year)` \"\n",
    "                \"in `treasury_yields` for those days and give me the result.\"\n",
    "            ),\n",
    "            answer=-100,\n",
    "            precision=0.01\n",
    "        ),\n",
    "    ]\n",
    "    dataset = Dataset(test_questions)\n",
    "    dataset.print_info()\n",
    "    return dataset"
   ]
  },
  {
   "cell_type": "markdown",
   "metadata": {},
   "source": []
  }
 ],
 "metadata": {
  "kernelspec": {
   "display_name": "Python 3.13.1 ('text2sql')",
   "language": "python",
   "name": "python3"
  },
  "language_info": {
   "codemirror_mode": {
    "name": "ipython",
    "version": 3
   },
   "file_extension": ".py",
   "mimetype": "text/x-python",
   "name": "python",
   "nbconvert_exporter": "python",
   "pygments_lexer": "ipython3",
   "version": "3.13.1"
  },
  "orig_nbformat": 4,
  "vscode": {
   "interpreter": {
    "hash": "83f3fa5421668a4833642a2b44b5c134ea4eb569c2fa67e79bb11743fa413784"
   }
  }
 },
 "nbformat": 4,
 "nbformat_minor": 2
}
