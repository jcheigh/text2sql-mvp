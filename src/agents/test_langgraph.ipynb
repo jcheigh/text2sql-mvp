{
 "cells": [
  {
   "cell_type": "code",
   "execution_count": 1,
   "metadata": {},
   "outputs": [],
   "source": [
    "import os \n",
    "from dotenv import load_dotenv   \n",
    "\n",
    "from typing import Annotated     \n",
    "from typing_extensions import TypedDict\n",
    "from langgraph.graph import StateGraph\n",
    "from langgraph.graph.message import add_messages\n",
    "from langchain_openai import ChatOpenAI\n",
    "from agent import Config\n",
    "import sys \n",
    "sys.path.append('../')\n",
    "from helper import get_paths"
   ]
  },
  {
   "cell_type": "code",
   "execution_count": 10,
   "metadata": {},
   "outputs": [],
   "source": [
    "class State(TypedDict):\n",
    "    messages: Annotated[list, add_messages]\n",
    "\n",
    "graph_builder = StateGraph(State)\n",
    "\n",
    "config = Config()\n",
    "llm = config.llm\n",
    "\n",
    "def chatbot(state: State):\n",
    "    return {\"messages\": [llm.invoke(state[\"messages\"])]}\n",
    "\n",
    "\n",
    "# The first argument is the unique node name\n",
    "# The second argument is the function or object that will be called whenever\n",
    "# the node is used.\n",
    "graph_builder.add_node(\"chatbot\", chatbot)\n",
    "graph_builder.set_entry_point(\"chatbot\")\n",
    "graph_builder.set_finish_point(\"chatbot\")\n",
    "graph = graph_builder.compile()"
   ]
  },
  {
   "cell_type": "code",
   "execution_count": 11,
   "metadata": {},
   "outputs": [
    {
     "data": {
      "image/png": "[encoded data removed]",
      "text/plain": [
       "<IPython.core.display.Image object>"
      ]
     },
     "metadata": {},
     "output_type": "display_data"
    }
   ],
   "source": [
    "from IPython.display import Image, display\n",
    "\n",
    "try:\n",
    "    display(Image(graph.get_graph().draw_mermaid_png()))\n",
    "except Exception as e:\n",
    "    print(e)\n",
    "    # This requires some extra dependencies and is optional\n",
    "    pass"
   ]
  },
  {
   "cell_type": "markdown",
   "metadata": {},
   "source": [
    "### Agent Workflow:\n",
    "- base level: USER_QUERY -> SQL Agent (input query, output data) -> Analytics Agent (input query, table, output result)\n",
    "- SQL Agent: user query -> TABLES -> JOINS -> compile\n",
    "    - TABLES: access to schema, few shot examples, creates json, then validated, then goes back if fails \n",
    "    - JOINS: same \n",
    "    - compile: compiles and executes"
   ]
  },
  {
   "cell_type": "markdown",
   "metadata": {},
   "source": [
    "### SQL Workflow \n",
    "\n",
    "For now we will make a langgraph application that takes in a user query concerning some data analytics, then generates/executes a SQL query. To be simple I'll use basic agent workflow, rather than the more recent json versions I have."
   ]
  },
  {
   "cell_type": "code",
   "execution_count": 4,
   "metadata": {},
   "outputs": [
    {
     "name": "stdout",
     "output_type": "stream",
     "text": [
      "sqlite\n",
      "['fxrates', 'ohlc', 'treasury_yields']\n"
     ]
    },
    {
     "data": {
      "text/plain": [
       "\"[('2020-01-01 00:00:00', 97.84704724718776, 122.24383711340477, 55.44555344062485, 92.24425183108863)]\""
      ]
     },
     "execution_count": 4,
     "metadata": {},
     "output_type": "execute_result"
    }
   ],
   "source": [
    "config = Config()\n",
    "llm    = config.llm\n",
    "db     = config.db\n",
    "print(db.dialect)\n",
    "print(db.get_usable_table_names())\n",
    "db.run(\"SELECT * FROM ohlc LIMIT 1;\")"
   ]
  },
  {
   "cell_type": "code",
   "execution_count": 5,
   "metadata": {},
   "outputs": [
    {
     "data": {
      "text/plain": [
       "'For the day with the lowest ratio of 5y tsy yield to 10y tsy yield among days where USD to GBP was greater than 0.75, calculate the percentage difference between the EUR equivalent of the close price and the JPY equivalent of the open price in the ohlc table.'"
      ]
     },
     "execution_count": 5,
     "metadata": {},
     "output_type": "execute_result"
    }
   ],
   "source": [
    "user_query = '''For the day with the lowest ratio of 5y tsy yield to 10y tsy yield among days where USD to GBP was greater than 0.75, calculate the percentage difference between the EUR equivalent of the close price and the JPY equivalent of the open price in the ohlc table.'''\n",
    "user_query"
   ]
  },
  {
   "cell_type": "code",
   "execution_count": 6,
   "metadata": {},
   "outputs": [],
   "source": [
    "from typing import Any\n",
    "\n",
    "from langchain_core.messages import ToolMessage\n",
    "from langchain_core.runnables import RunnableLambda, RunnableWithFallbacks\n",
    "from langgraph.prebuilt import ToolNode\n",
    "\n",
    "def create_tool_node_with_fallback(tools: list) -> RunnableWithFallbacks[Any, dict]:\n",
    "    \"\"\"\n",
    "    Create a ToolNode with a fallback to handle errors and surface them to the agent.\n",
    "    \"\"\"\n",
    "    return ToolNode(tools).with_fallbacks(\n",
    "        [RunnableLambda(handle_tool_error)], exception_key=\"error\"\n",
    "    )\n",
    "\n",
    "\n",
    "def handle_tool_error(state) -> dict:\n",
    "    error = state.get(\"error\")\n",
    "    tool_calls = state[\"messages\"][-1].tool_calls\n",
    "    return {\n",
    "        \"messages\": [\n",
    "            ToolMessage(\n",
    "                content=f\"Error: {repr(error)}\\n please fix your mistakes.\",\n",
    "                tool_call_id=tc[\"id\"],\n",
    "            )\n",
    "            for tc in tool_calls\n",
    "        ]\n",
    "    }"
   ]
  },
  {
   "cell_type": "code",
   "execution_count": 7,
   "metadata": {},
   "outputs": [
    {
     "name": "stdout",
     "output_type": "stream",
     "text": [
      "List tables tool:\n",
      "fxrates, ohlc, treasury_yields\n",
      "Get Schema Tool:\n",
      "\n",
      "CREATE TABLE ohlc (\n",
      "\tdate TIMESTAMP, \n",
      "\topen REAL, \n",
      "\thigh REAL, \n",
      "\tlow REAL, \n",
      "\tclose REAL\n",
      ")\n",
      "\n",
      "/*\n",
      "3 rows from ohlc table:\n",
      "date\topen\thigh\tlow\tclose\n",
      "2020-01-01 00:00:00\t97.84704724718776\t122.24383711340477\t55.44555344062485\t92.24425183108863\n",
      "2020-01-02 00:00:00\t92.1025462060139\t123.51768361972003\t66.15905516369102\t95.32120830941909\n",
      "2020-01-03 00:00:00\t106.36100005515581\t128.19239423274277\t55.33471311840124\t86.26686713329055\n",
      "*/\n"
     ]
    }
   ],
   "source": [
    "from langchain_community.agent_toolkits import SQLDatabaseToolkit\n",
    "\n",
    "toolkit = SQLDatabaseToolkit(db=db, llm=llm)\n",
    "tools = toolkit.get_tools()\n",
    "\n",
    "list_tables_tool = next(tool for tool in tools if tool.name == \"sql_db_list_tables\")\n",
    "get_schema_tool = next(tool for tool in tools if tool.name == \"sql_db_schema\")\n",
    "\n",
    "print(f\"List tables tool:\\n{list_tables_tool.invoke('')}\")\n",
    "print(f\"Get Schema Tool:\\n{get_schema_tool.invoke('ohlc')}\")"
   ]
  },
  {
   "cell_type": "code",
   "execution_count": 8,
   "metadata": {},
   "outputs": [
    {
     "name": "stdout",
     "output_type": "stream",
     "text": [
      "[('2020-01-01 00:00:00', 97.84704724718776, 122.24383711340477, 55.44555344062485, 92.24425183108863), ('2020-01-02 00:00:00', 92.1025462060139, 123.51768361972003, 66.15905516369102, 95.32120830941909), ('2020-01-03 00:00:00', 106.36100005515581, 128.19239423274277, 55.33471311840124, 86.26686713329055), ('2020-01-06 00:00:00', 80.81369705607382, 125.60013685719203, 50.78108336998327, 109.1217457076581), ('2020-01-07 00:00:00', 110.7078607823112, 125.85787783483124, 52.01795215193146, 116.74164452652454), ('2020-01-08 00:00:00', 83.42638881775606, 122.41280840799715, 52.81272810373951, 84.38937346958053), ('2020-01-09 00:00:00', 89.8622357484273, 121.05590796812594, 65.22239458043227, 115.18077316792039), ('2020-01-10 00:00:00', 82.98999653792121, 129.19575008359578, 55.89132254089701, 103.79690865194232), ('2020-01-13 00:00:00', 81.14335739717193, 121.60341479943946, 62.63162635281664, 119.59260717866489), ('2020-01-14 00:00:00', 114.10462164114534, 125.37346406189475, 69.31098577947772, 115.77696254711509)]\n"
     ]
    }
   ],
   "source": [
    "from langchain_core.tools import tool\n",
    "\n",
    "@tool\n",
    "def db_query_tool(query: str) -> str:\n",
    "    \"\"\"\n",
    "    Execute a SQL query against the database and get back the result.\n",
    "    If the query is not correct, an error message will be returned.\n",
    "    If an error is returned, rewrite the query, check the query, and try again.\n",
    "    \"\"\"\n",
    "    result = db.run_no_throw(query)\n",
    "    if not result:\n",
    "        return \"Error: Query failed. Please rewrite your query and try again.\"\n",
    "    return result\n",
    "\n",
    "\n",
    "print(db_query_tool.invoke(\"SELECT * FROM ohlc LIMIT 10;\"))"
   ]
  },
  {
   "cell_type": "markdown",
   "metadata": {},
   "source": [
    "### SQL Agent Workflow:\n",
    "- base level: \n",
    "    - inputs: Config := (llm, db), user query \n",
    "    - outputs: result \n",
    "    - steps: sql agent -> analytics agent:\n",
    "    - sql agent:\n",
    "        - inputs: Config, user query \n",
    "        - outputs: table\n",
    "        - steps: gen_tables -> gen_joins -> compile -> execute \n",
    "        - gen_tables: \n",
    "            - inputs: Config, user query\n",
    "            - outputs: table info\n",
    "                - table info: {table: [(col, alias), ...], ...}\n",
    "            - steps: context -> json_initial -> validate + rewrite -> json\n",
    "            - context: schema, few shot examples, instructions, user query\n",
    "            - validate: \n",
    "                - inputs: user query, json_initial\n",
    "                - outputs: bool (if valid), error msg \n",
    "                - steps: simple validation -> ai validation\n",
    "                - simple validation:\n",
    "                    - steps: check_tables_exist -> check_cols_exist \n",
    "                - ai validation:\n",
    "                    - steps: check_cols_make_sense -> check_names_make_sense\n",
    "            - rewrite:\n",
    "                - add error msg + json_initial + context, put through sql agent\n",
    "                - add fail counter and increment, hard stop at self.num_attempts = 3 tries \n",
    "        - gen_joins:\n",
    "            - inputs: Config, user query, table info\n",
    "            - outputs: joins_info \n",
    "                - joins_info: inner(A, outer(B, C))\n",
    "            - steps: context -> json_initial -> validate + rewrite -> json\n",
    "            - ...\n",
    "            - simple_validation: \n",
    "                - steps: check_tables/cols_exist -> check json_form -> check n-1 joins \n",
    "            - ai validation:\n",
    "                - steps: check_joins_make_sense -> check_keeps_make_sense \n",
    "        - compile/execute:\n",
    "            - inputs: table_info, joins_info\n",
    "            - outputs: sql query\n",
    "            - steps:\n",
    "                - compile function -> execute sql  \n",
    "    - analytics agent:\n",
    "        - inputs: Config, user query, table \n",
    "        - outputs: result \n",
    "        - \n",
    "\n",
    "USER_QUERY -> SQL Agent (input query, output table) -> Analytics Agent (input query, table, output result)\n",
    "\n",
    "- SQL Agent: user query -> TABLES -> JOINS -> compile\n",
    "    - TABLES: access to schema, few shot examples, creates json, then validated, then goes back if fails \n",
    "    - JOINS: same \n",
    "    - compile: compiles and executes"
   ]
  },
  {
   "cell_type": "markdown",
   "metadata": {},
   "source": [
    "### json formulater \n",
    "\n",
    "LabeledExample:\n",
    "- user query, tables, joins, json template\n",
    "\n",
    "JSONTemplate:\n",
    "- tables, cols, aliases \n"
   ]
  },
  {
   "cell_type": "code",
   "execution_count": 9,
   "metadata": {},
   "outputs": [
    {
     "name": "stdout",
     "output_type": "stream",
     "text": [
      "For the day with the lowest ratio of 5y tsy yield to 10y tsy yield among days where USD to GBP was greater than 0.75, calculate the percentage difference between the EUR equivalent of the close price and the JPY equivalent of the open price in the ohlc table.\n"
     ]
    }
   ],
   "source": [
    "class LabeledExample:\n",
    "\n",
    "    def __init__(\n",
    "        self,\n",
    "        user_query,\n",
    "        table_info,\n",
    "        joins_info\n",
    "        ):\n",
    "        self.user_query = user_query\n",
    "        self.table_info = table_info\n",
    "        self.joins_info = joins_info\n",
    "\n",
    "\n",
    "user_query = '''For the day with the lowest ratio of 5y tsy yield to 10y tsy yield among days where USD to GBP was greater than 0.75, calculate the percentage difference between the EUR equivalent of the close price and the JPY equivalent of the open price in the ohlc table.'''\n",
    "print(user_query)\n",
    "table_info = {\n",
    "    \"treasury_yields\" : [('date', 'yield_date'), ('yield_5_year', 'yield_5y_tsy'), ('yield_10_year', 'yield_10y_tsy')],\n",
    "    \"fxrates\" : [(\"date\", \"fx_date\"), (\"usd_to_gdp\", \"usd_to_gdp\"), (\"usd_to_eur\", \"usd_to_eur\"), (\"usd_to_jpy\", \"usd_to_jpy\")],\n",
    "    \"ohlc\" : [(\"date\", \"ohlc_date\"), (\"open\", \"stock_open\"), (\"close\", \"stock_close\")]\n",
    "    }\n"
   ]
  },
  {
   "cell_type": "code",
   "execution_count": null,
   "metadata": {},
   "outputs": [],
   "source": []
  }
 ],
 "metadata": {
  "kernelspec": {
   "display_name": "Python 3.13.1 ('text2sql')",
   "language": "python",
   "name": "python3"
  },
  "language_info": {
   "codemirror_mode": {
    "name": "ipython",
    "version": 3
   },
   "file_extension": ".py",
   "mimetype": "text/x-python",
   "name": "python",
   "nbconvert_exporter": "python",
   "pygments_lexer": "ipython3",
   "version": "3.13.1"
  },
  "orig_nbformat": 4,
  "vscode": {
   "interpreter": {
    "hash": "83f3fa5421668a4833642a2b44b5c134ea4eb569c2fa67e79bb11743fa413784"
   }
  }
 },
 "nbformat": 4,
 "nbformat_minor": 2
}
